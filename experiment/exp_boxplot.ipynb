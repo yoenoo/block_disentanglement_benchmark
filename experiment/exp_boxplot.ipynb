{
 "cells": [
  {
   "cell_type": "code",
   "execution_count": 1,
   "id": "7c3b9345-3fbd-4169-b1e8-ef89f01e6ca5",
   "metadata": {},
   "outputs": [],
   "source": [
    "%load_ext autoreload\n",
    "%autoreload 2"
   ]
  },
  {
   "cell_type": "code",
   "execution_count": 2,
   "id": "149e4bf3-ab63-4f3b-a925-dc8275d5a0b6",
   "metadata": {},
   "outputs": [],
   "source": [
    "import matplotlib.pyplot as plt \n",
    "import torch\n",
    "from torch.optim import Adam\n",
    "from torch.utils.data import DataLoader"
   ]
  },
  {
   "cell_type": "code",
   "execution_count": 3,
   "id": "f4f9dde0-1d3a-4d7d-b6b9-bcf5d303c47d",
   "metadata": {},
   "outputs": [],
   "source": [
    "from datamodels.grassy_mnist import get_grassy_mnist\n",
    "from models.cvae import ContrastiveVAE\n",
    "from models.vae import VAE\n",
    "from models.train import train\n",
    "from datamodels.utils import s_score"
   ]
  },
  {
   "cell_type": "code",
   "execution_count": 4,
   "id": "526a81ab-6b7d-4018-bbd3-8d6f656da636",
   "metadata": {},
   "outputs": [],
   "source": [
    "BATCH_SIZE = 128\n",
    "EPOCHS = 100\n",
    "trials = 10"
   ]
  },
  {
   "cell_type": "code",
   "execution_count": 5,
   "id": "3139218c-628c-48d2-b5d3-b73b778bbdc7",
   "metadata": {},
   "outputs": [],
   "source": [
    "target, target_labels, background = get_grassy_mnist(scale=2) ## SCALE"
   ]
  },
  {
   "cell_type": "code",
   "execution_count": 6,
   "id": "97cd09ca-49b8-49cb-a3d4-b3216645ac71",
   "metadata": {},
   "outputs": [
    {
     "name": "stdout",
     "output_type": "stream",
     "text": [
      "Trial 0\n",
      "Trial 1\n",
      "Trial 2\n",
      "Trial 3\n",
      "Trial 4\n",
      "Trial 5\n",
      "Trial 6\n",
      "Trial 7\n",
      "Trial 8\n",
      "Trial 9\n"
     ]
    }
   ],
   "source": [
    "# cVAE\n",
    "ss_cvae = []\n",
    "for trial in range(trials):\n",
    "    print(f\"Trial {trial}\")\n",
    "    ds = torch.stack([target, background], axis=1)\n",
    "    dataloader = DataLoader(dataset=ds, batch_size=BATCH_SIZE, shuffle=True, drop_last=True)\n",
    "    model = ContrastiveVAE(input_dim=28*28, hidden_dim=32, latent_dim=2, tc=True)\n",
    "\n",
    "    optimizer = Adam(model.parameters(), lr=1e-4)\n",
    "    losses = train(model, dataloader, optimizer, epochs=EPOCHS, plot=False)\n",
    "    ss, _ = s_score(model.s_encoder, target, target_labels)\n",
    "    ss_cvae.append(ss)"
   ]
  },
  {
   "cell_type": "code",
   "execution_count": 8,
   "id": "04a307f5-0363-400a-8bcc-5321eb58cabc",
   "metadata": {},
   "outputs": [
    {
     "name": "stdout",
     "output_type": "stream",
     "text": [
      "Trial 0\n",
      "Trial 1\n",
      "Trial 2\n",
      "Trial 3\n",
      "Trial 4\n",
      "Trial 5\n",
      "Trial 6\n",
      "Trial 7\n",
      "Trial 8\n",
      "Trial 9\n"
     ]
    }
   ],
   "source": [
    "# VAE\n",
    "ss_vae = []\n",
    "for trial in range(trials):\n",
    "    print(f\"Trial {trial}\")\n",
    "    dataloader = DataLoader(dataset=target, batch_size=BATCH_SIZE, shuffle=True, drop_last=True)\n",
    "    model = VAE(input_dim=28*28, hidden_dim=32, latent_dim=2, use_bias=True)\n",
    "\n",
    "    optimizer = Adam(model.parameters(), lr=1e-4)\n",
    "    losses = train(model, dataloader, optimizer, epochs=EPOCHS, plot=False)\n",
    "    ss, _ = s_score(model.encoder, target, target_labels)\n",
    "    ss_vae.append(ss)"
   ]
  },
  {
   "cell_type": "code",
   "execution_count": null,
   "id": "baa51f4a-e887-4593-9cc6-814bed3161ff",
   "metadata": {},
   "outputs": [],
   "source": []
  },
  {
   "cell_type": "code",
   "execution_count": 27,
   "id": "b8b655d9-744a-4b55-a7bf-dcb7ab000d11",
   "metadata": {},
   "outputs": [
    {
     "data": {
      "image/png": "[encoded data removed]",
      "text/plain": [
       "<Figure size 200x500 with 1 Axes>"
      ]
     },
     "metadata": {},
     "output_type": "display_data"
    }
   ],
   "source": [
    "_, ax = plt.subplots(figsize=(2,5))\n",
    "ax.boxplot([\n",
    "    [s[0] for s in ss_vae],\n",
    "    [s[0] for s in ss_cvae],\n",
    "])\n",
    "\n",
    "ax.set_xticklabels([\"VAE\", \"cVAE\"]);"
   ]
  },
  {
   "cell_type": "code",
   "execution_count": null,
   "id": "9182fd2c-06ed-4d42-af95-4abd4e172e20",
   "metadata": {},
   "outputs": [],
   "source": []
  },
  {
   "cell_type": "code",
   "execution_count": null,
   "id": "7d1acdb7-416e-40ab-9394-a73d68958ecb",
   "metadata": {},
   "outputs": [],
   "source": []
  },
  {
   "cell_type": "code",
   "execution_count": null,
   "id": "7d2e6be2-158a-47c0-a5fb-fa054a3a036a",
   "metadata": {},
   "outputs": [],
   "source": []
  }
 ],
 "metadata": {
  "kernelspec": {
   "display_name": "mcvae",
   "language": "python",
   "name": "mcvae"
  },
  "language_info": {
   "codemirror_mode": {
    "name": "ipython",
    "version": 3
   },
   "file_extension": ".py",
   "mimetype": "text/x-python",
   "name": "python",
   "nbconvert_exporter": "python",
   "pygments_lexer": "ipython3",
   "version": "3.10.14"
  }
 },
 "nbformat": 4,
 "nbformat_minor": 5
}
