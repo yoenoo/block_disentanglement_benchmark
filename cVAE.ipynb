{
 "cells": [
  {
   "cell_type": "code",
   "execution_count": 1,
   "id": "2a3f0ba5-4c3e-482b-9e81-86b579f970c3",
   "metadata": {},
   "outputs": [],
   "source": [
    "%load_ext autoreload\n",
    "%autoreload 2"
   ]
  },
  {
   "cell_type": "code",
   "execution_count": 2,
   "id": "dcb9052c-daaa-4918-8680-2a8177b8d1a8",
   "metadata": {},
   "outputs": [],
   "source": [
    "import torch\n",
    "import torchvision\n",
    "import torchvision.datasets as datasets\n",
    "\n",
    "import numpy as np\n",
    "from pathlib import Path\n",
    "from PIL import Image\n",
    "\n",
    "from utils import resize_and_crop"
   ]
  },
  {
   "cell_type": "markdown",
   "id": "36b12384-d62b-4c2f-a861-54ba5274f09c",
   "metadata": {},
   "source": [
    "### Load the dataset"
   ]
  },
  {
   "cell_type": "code",
   "execution_count": 3,
   "id": "28933aed-c54d-421e-a70a-b2579fdc2a6d",
   "metadata": {},
   "outputs": [],
   "source": [
    "np.random.seed(0)"
   ]
  },
  {
   "cell_type": "code",
   "execution_count": 4,
   "id": "eaaf9c9b-cd26-434e-b7c0-a41ae20b8098",
   "metadata": {
    "tags": []
   },
   "outputs": [],
   "source": [
    "mnist_train = datasets.MNIST(root=\"./data\", train=True, download=True, transform=None)\n",
    "X_train, y_train = mnist_train.data, mnist_train.targets\n",
    "mnist_test = datasets.MNIST(root=\"./data\", train=False, download=True, transform=None)\n",
    "X_test, y_test = mnist_test.data, mnist_test.targets"
   ]
  },
  {
   "cell_type": "code",
   "execution_count": 5,
   "id": "4c2645c2-ab7e-4c4e-b92b-987132d1e09a",
   "metadata": {},
   "outputs": [],
   "source": [
    "# Only the digits 0, 1, and 2 were used in the target dataset\n",
    "target_idx = np.where(y_train < 3)[0] \n",
    "foreground = X_train[target_idx,:][:10000].reshape(-1, 28*28) / 256.\n",
    "target_labels = y_train[target_idx][:10000]"
   ]
  },
  {
   "cell_type": "code",
   "execution_count": 14,
   "id": "f49a4e9a-b840-40b7-9073-4c3d07de5fe8",
   "metadata": {},
   "outputs": [
    {
     "name": "stdout",
     "output_type": "stream",
     "text": [
      "(1274, 10000)\n"
     ]
    }
   ],
   "source": [
    "IMAGENET_PATH = \"./data/imagenet/grass_images/\"\n",
    "\n",
    "grass_imgs = []\n",
    "for fpath in Path(IMAGENET_PATH).iterdir():\n",
    "    if fpath.suffix != \".JPEG\": \n",
    "        print(\"unknown file extension:\", fpath)\n",
    "        continue\n",
    "    \n",
    "    try:\n",
    "        im = Image.open(fpath)\n",
    "        im = im.convert(mode=\"L\") # grayscale\n",
    "        im = resize_and_crop(im) # resize and crop to 100px x 100px\n",
    "        grass_imgs.append(np.reshape(im, 10000))\n",
    "    except:\n",
    "        print(\"unknown error:\", fpath)\n",
    "    \n",
    "grass_imgs = np.asarray(grass_imgs, dtype=float) / 255. # rescale to 0-1\n",
    "print(grass_imgs.shape)"
   ]
  },
  {
   "cell_type": "code",
   "execution_count": 19,
   "id": "f2982c6c-0414-4ca2-9ea7-3c592b15a57f",
   "metadata": {},
   "outputs": [],
   "source": [
    "rand_idxs = np.random.permutation(grass_imgs.shape[0])\n",
    "split = int(len(rand_idxs)) // 2\n",
    "\n",
    "target_idxs = rand_idxs[:split]\n",
    "background_idxs = rand_idxs[split:]\n",
    "\n",
    "target = np.zeros(foreground.shape)\n",
    "background = np.zeros(foreground.shape)\n",
    "\n",
    "for i in range(target.shape[0]):\n",
    "    idx = np.random.choice(target_idxs) # randomly pick an image\n",
    "    "
   ]
  },
  {
   "cell_type": "code",
   "execution_count": null,
   "id": "dee74918-7585-49ab-9ae6-87462ebbfd89",
   "metadata": {},
   "outputs": [],
   "source": []
  },
  {
   "cell_type": "code",
   "execution_count": null,
   "id": "7aae3db8-03d9-4d7a-9403-453012cc38fe",
   "metadata": {},
   "outputs": [],
   "source": []
  }
 ],
 "metadata": {
  "kernelspec": {
   "display_name": "Python 3 (ipykernel)",
   "language": "python",
   "name": "python3"
  },
  "language_info": {
   "codemirror_mode": {
    "name": "ipython",
    "version": 3
   },
   "file_extension": ".py",
   "mimetype": "text/x-python",
   "name": "python",
   "nbconvert_exporter": "python",
   "pygments_lexer": "ipython3",
   "version": "3.9.12"
  }
 },
 "nbformat": 4,
 "nbformat_minor": 5
}
